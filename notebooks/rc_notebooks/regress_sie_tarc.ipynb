{
 "cells": [
  {
   "cell_type": "code",
   "execution_count": 1,
   "metadata": {},
   "outputs": [],
   "source": [
    "%matplotlib inline\n",
    "\n",
    "import intake\n",
    "import matplotlib.pyplot as plt\n",
    "import numpy as np\n",
    "import xarray as xr\n",
    "from scipy import stats\n",
    "import warnings\n",
    "\n",
    "from regress_utils import scatter_tas_SIE_linreg"
   ]
  },
  {
   "cell_type": "markdown",
   "metadata": {},
   "source": [
    "#### Load dataset"
   ]
  },
  {
   "cell_type": "code",
   "execution_count": 2,
   "metadata": {},
   "outputs": [],
   "source": [
    "# Load dataset\n",
    "collection_fname = 'dset_dict_historical.npy'\n",
    "#collection_fname = 'dset_dict_piControl.npy'\n",
    "\n",
    "dset_dict = np.load(collection_fname, allow_pickle='TRUE').item()\n",
    "first_dset = list(dset_dict.keys())[0]\n",
    "models_intersect = dset_dict[first_dset].keys()"
   ]
  },
  {
   "cell_type": "markdown",
   "metadata": {},
   "source": [
    "#### Regression of sea ice extent on arctic temperature for each model for multiple ensemble members"
   ]
  },
  {
   "cell_type": "code",
   "execution_count": 3,
   "metadata": {},
   "outputs": [
    {
     "name": "stdout",
     "output_type": "stream",
     "text": [
      "CanESM5 5\n",
      "r4i1p2f1\n",
      "r23i1p1f1\n",
      "r7i1p1f1\n",
      "r14i1p2f1\n",
      "r9i1p1f1\n",
      "CESM2 5\n",
      "r10i1p1f1\n",
      "r7i1p1f1\n",
      "r9i1p1f1\n",
      "r4i1p1f1\n",
      "r1i1p1f1\n",
      "MIROC6 5\n",
      "r10i1p1f1\n",
      "r7i1p1f1\n",
      "r9i1p1f1\n",
      "r4i1p1f1\n",
      "r1i1p1f1\n",
      "MIROC-ES2L 3\n",
      "r1i1p1f2\n",
      "r2i1p1f2\n",
      "r3i1p1f2\n",
      "SAM0-UNICON 1\n",
      "r1i1p1f1\n",
      "NorCPM1 1\n",
      "r26i1p1f1\n"
     ]
    }
   ],
   "source": [
    "# Set maximum number of ensemble members to look at for each model\n",
    "#N.B. doing this for anomalies give you the same answer as not anomalies. Which makes sense when you think about it.\n",
    "max_ems = 5\n",
    "\n",
    "warnings.filterwarnings('ignore')\n",
    "\n",
    "slopes_all, r_all = {}, {}\n",
    "for m in models_intersect:\n",
    "    # get ensemble members\n",
    "    ems = dset_dict['siconc'][m]['member_id'].values\n",
    "    if len(ems)>max_ems:\n",
    "        ems = ems[0:max_ems]\n",
    "    print(m, len(ems))\n",
    "    \n",
    "    # Perform regression\n",
    "    slopes_all[m], r_all[m] = {}, {}\n",
    "    for i, em in enumerate(ems):\n",
    "        print(em)\n",
    "        slopes_all[m][i], r_all[m][i] = scatter_tas_SIE_linreg(\n",
    "                                                        dset_dict['tas'][m]['tas_arc_mean'].sel(member_id=em),\n",
    "                                                        dset_dict['siconc'][m]['sie_tot_arc'].sel(member_id=em),\n",
    "                                                        [2,8], False, m)\n",
    "\n",
    "warnings.filterwarnings('default')"
   ]
  },
  {
   "cell_type": "code",
   "execution_count": 4,
   "metadata": {},
   "outputs": [
    {
     "name": "stdout",
     "output_type": "stream",
     "text": [
      "Model, slopes (mar, sept), r (mar, sept)\n",
      "\n",
      "CanESM5 [-0.1732774  -0.46053736] [-0.48773825 -0.74460261]\n",
      "CESM2 [-0.09336018 -1.21392784] [-0.56351712 -0.83998228]\n",
      "MIROC6 [-0.08038408 -0.62241664] [-0.40935027 -0.82928912]\n",
      "MIROC-ES2L [-0.09192133 -0.65859899] [-0.36098676 -0.82239082]\n",
      "SAM0-UNICON [-0.09876842 -0.39225192] [-0.32149741 -0.73354963]\n",
      "NorCPM1 [-0.08358198 -0.227611  ] [-0.34998617 -0.67983657]\n"
     ]
    }
   ],
   "source": [
    "# Calculate ensemble mean and r values for each model\n",
    "slopes_mean, r_mean = {}, {}\n",
    "\n",
    "print('Model, slopes (mar, sept), r (mar, sept)')\n",
    "print()\n",
    "for m in models_intersect:\n",
    "    slopes_mean_temp, r_mean_temp = [], []\n",
    "    for em in slopes_all[m].keys():\n",
    "        slopes_mean_temp.append(slopes_all[m][em])\n",
    "        r_mean_temp.append(r_all[m][em])        \n",
    "        \n",
    "    slopes_mean[m] = np.mean(slopes_mean_temp,0)\n",
    "    r_mean[m] = np.mean(r_mean_temp,0)\n",
    "    \n",
    "    print(m, slopes_mean[m], r_mean[m])"
   ]
  },
  {
   "cell_type": "markdown",
   "metadata": {},
   "source": [
    "#### Save"
   ]
  },
  {
   "cell_type": "code",
   "execution_count": 5,
   "metadata": {},
   "outputs": [],
   "source": [
    "# Save dictionaries for future use\n",
    "results_fname = 'results_' + collection_fname[10:]\n",
    "save_flag = True\n",
    "if save_flag:\n",
    "    if dset_dict:\n",
    "        np.save(results_fname, slopes_mean, r_mean)"
   ]
  },
  {
   "cell_type": "markdown",
   "metadata": {},
   "source": [
    "#### Plots"
   ]
  },
  {
   "cell_type": "code",
   "execution_count": 6,
   "metadata": {},
   "outputs": [
    {
     "data": {
      "text/plain": [
       "<matplotlib.colorbar.Colorbar at 0x7fe8a56a6748>"
      ]
     },
     "execution_count": 6,
     "metadata": {},
     "output_type": "execute_result"
    },
    {
     "data": {
      "image/png": "[encoded data removed]",
      "text/plain": [
       "<Figure size 720x432 with 2 Axes>"
      ]
     },
     "metadata": {
      "needs_background": "light"
     },
     "output_type": "display_data"
    }
   ],
   "source": [
    "# Plot slopes for all models\n",
    "slopes_plot = np.zeros((2,len(slopes_mean.keys())))\n",
    "\n",
    "for im, m in enumerate(slopes_mean.keys()):\n",
    "    slopes_plot[0,im] = slopes_mean[m][0]\n",
    "    slopes_plot[1,im] = slopes_mean[m][1]\n",
    "    \n",
    "fig = plt.figure(figsize=(10,6))\n",
    "plt.pcolormesh(slopes_plot, cmap='Reds_r')\n",
    "plt.clim(0, -1.2)\n",
    "plt.xticks(np.arange(0, len(models_intersect), 1) + 0.5,list(slopes_all.keys()),fontsize=14)\n",
    "plt.yticks([0.5,1.5],['March','September'],fontsize=14)\n",
    "plt.title('Slope: mean Arctic temperature vs. total Arctic sea ice extent', fontsize=18)\n",
    "plt.colorbar(label='Slope ((10$^{6}$ km$^{2}$)/K)')"
   ]
  },
  {
   "cell_type": "code",
   "execution_count": 7,
   "metadata": {},
   "outputs": [
    {
     "data": {
      "text/plain": [
       "<matplotlib.colorbar.Colorbar at 0x7fe8a31e76d8>"
      ]
     },
     "execution_count": 7,
     "metadata": {},
     "output_type": "execute_result"
    },
    {
     "data": {
      "image/png": "[encoded data removed]",
      "text/plain": [
       "<Figure size 720x432 with 2 Axes>"
      ]
     },
     "metadata": {
      "needs_background": "light"
     },
     "output_type": "display_data"
    }
   ],
   "source": [
    "# Plot R squared for all models\n",
    "r_plot = np.zeros((2,len(r_mean.keys())))\n",
    "\n",
    "for im, m in enumerate(r_mean.keys()):\n",
    "    r_plot[0,im] = r_mean[m][0]*r_mean[m][0]\n",
    "    r_plot[1,im] = r_mean[m][1]*r_mean[m][1]\n",
    "    \n",
    "fig = plt.figure(figsize=(10,6))\n",
    "plt.pcolormesh(r_plot, cmap='Reds')\n",
    "plt.clim(0, 0.75)\n",
    "plt.xticks(np.arange(0, len(models_intersect), 1) + 0.5,list(slopes_all.keys()),fontsize=14)\n",
    "plt.yticks([0.5,1.5],['March','September'],fontsize=14)\n",
    "plt.title('R$^{2}$: mean Arctic temperature vs. total Arctic sea ice extent', fontsize=18)\n",
    "plt.colorbar(label='R$^{2}$')"
   ]
  },
  {
   "cell_type": "code",
   "execution_count": null,
   "metadata": {},
   "outputs": [],
   "source": []
  }
 ],
 "metadata": {
  "kernelspec": {
   "display_name": "Python 3",
   "language": "python",
   "name": "python3"
  },
  "language_info": {
   "codemirror_mode": {
    "name": "ipython",
    "version": 3
   },
   "file_extension": ".py",
   "mimetype": "text/x-python",
   "name": "python",
   "nbconvert_exporter": "python",
   "pygments_lexer": "ipython3",
   "version": "3.7.3"
  }
 },
 "nbformat": 4,
 "nbformat_minor": 4
}
